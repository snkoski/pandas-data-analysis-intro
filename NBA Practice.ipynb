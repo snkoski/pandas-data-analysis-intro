{
 "cells": [
  {
   "cell_type": "code",
   "execution_count": null,
   "metadata": {},
   "outputs": [],
   "source": [
    "import pandas as pd\n",
    "import matplotlib.pyplot as plt"
   ]
  },
  {
   "cell_type": "code",
   "execution_count": null,
   "metadata": {},
   "outputs": [],
   "source": [
    "players = pd.read_csv(\"npo_players.csv\", index_col=\"Name\")\n",
    "del players[\"Unnamed: 0\"]\n",
    "players.head()"
   ]
  },
  {
   "cell_type": "code",
   "execution_count": null,
   "metadata": {},
   "outputs": [],
   "source": [
    "mask = players[\"Age\"] >= 38\n",
    "old_index = players[mask].index.unique()\n",
    "old_players = players.loc[old_index]"
   ]
  },
  {
   "cell_type": "code",
   "execution_count": null,
   "metadata": {},
   "outputs": [],
   "source": [
    "old_dict = {}\n",
    "for player in old_index:\n",
    "    player_name = player.split(\" \")[0].lower()\n",
    "    \n",
    "    age_key = player_name + \"_age\"\n",
    "    old_dict[age_key] = players.loc[player][\"Age\"].values\n",
    "    \n",
    "    ppg_key = player_name + \"_ppg\"\n",
    "    old_dict[ppg_key] = players.loc[player][\"Points Per Game\"].values\n",
    "    \n",
    "    fga_key = player_name + \"_fga\"\n",
    "    old_dict[fga_key] = players.loc[player][\"Field Goal Attempts Per Game\"].values\n",
    "\n",
    "    efg_key = player_name + \"_efg\"\n",
    "    old_dict[efg_key] = players.loc[player][\"Effective Field Goal Percent\"].values\n",
    "    \n",
    "    mpg_key = player_name + \"_mpg\"\n",
    "    old_dict[mpg_key] = players.loc[player][\"Minutes Per Game\"].values"
   ]
  },
  {
   "cell_type": "code",
   "execution_count": null,
   "metadata": {},
   "outputs": [],
   "source": [
    "# first two arguments are x and y axis, third argument determines color, line type, and marker shape\n",
    "# colors k-black, w-white, g-green, b-blue, r-red, y-yellow, c-cyan, m-magenta\n",
    "# line types '-'solid line, '--'dashed line, '-.'dashes and dots, ':'dotted line\n",
    "# plot shape '.'small dots, 'o'-dot, 'p'-pentagon?, 's'-square, 'd'-diamond, 'h'-hexagon, 'x'-X, '^'-triangle, 'v'-upside-down triangle\n",
    "plt.plot(old_dict[\"vince_age\"], old_dict[\"vince_ppg\"], 'r:.', linewidth=1.1, label=\"Vince\")\n",
    "\n",
    "# can add multiple plots in one graph\n",
    "plt.plot(old_dict[\"dirk_age\"], old_dict[\"dirk_ppg\"], 'b:.', label=\"Dirk\")\n",
    "\n",
    "# axis values, notice that x andy axis values are all in one array\n",
    "plt.axis([20, 42, 0, 30] )\n",
    "\n",
    "# add legend to graph\n",
    "plt.legend(loc=\"best\")\n",
    "\n",
    "# add grid lines to graph\n",
    "plt.grid(which='major', linestyle='-', linewidth=1.2, color='black', alpha=0.3)\n",
    "plt.minorticks_on()\n",
    "plt.grid(which='minor', linestyle='--', color='gray', alpha=0.2)\n",
    "\n",
    "# title and labels\n",
    "plt.title(\"Vince Carter & Dirk Nowitzki Age vs PPG\")\n",
    "plt.xlabel(\"Age\")\n",
    "plt.ylabel(\"PPG\")"
   ]
  },
  {
   "cell_type": "code",
   "execution_count": null,
   "metadata": {},
   "outputs": [],
   "source": [
    "plt.figure(figsize=(30,20)).suptitle(\"Old Man Game\")\n",
    "\n",
    "plt.subplot(2,2,1)\n",
    "plt.plot(old_dict[\"vince_age\"], old_dict[\"vince_ppg\"], 'r:.', linewidth=1.1, label=\"Vince\")\n",
    "plt.plot(old_dict[\"dirk_age\"], old_dict[\"dirk_ppg\"], 'b:.', label=\"Dirk\")\n",
    "plt.plot(old_dict[\"jamal_age\"], old_dict[\"jamal_ppg\"], 'g:.', label=\"Jamal\")\n",
    "plt.plot(old_dict[\"pau_age\"], old_dict[\"pau_ppg\"], 'y:.', label=\"Pau\")\n",
    "plt.plot(old_dict[\"udonis_age\"], old_dict[\"udonis_ppg\"], 'k:.', label=\"Udonis\")\n",
    "plt.axis([20, 42, 0, 30] )\n",
    "plt.legend(loc=\"best\")\n",
    "plt.grid(which='major', linestyle='-', linewidth=1.2, color='black', alpha=0.3)\n",
    "plt.minorticks_on()\n",
    "plt.grid(which='minor', linestyle='--', color='gray', alpha=0.2)\n",
    "plt.title(\"Age vs PPG\")\n",
    "plt.xlabel(\"Age\")\n",
    "plt.ylabel(\"PPG\")\n",
    "\n",
    "plt.subplot(2,2,3)\n",
    "plt.plot(old_dict[\"vince_age\"], old_dict[\"vince_fga\"], 'r:.', linewidth=1.1, label=\"Vince\")\n",
    "plt.plot(old_dict[\"dirk_age\"], old_dict[\"dirk_fga\"], 'b:.', label=\"Dirk\")\n",
    "plt.plot(old_dict[\"jamal_age\"], old_dict[\"jamal_fga\"], 'g:.', label=\"Jamal\")\n",
    "plt.plot(old_dict[\"pau_age\"], old_dict[\"pau_fga\"], 'y:.', label=\"Pau\")\n",
    "plt.plot(old_dict[\"udonis_age\"], old_dict[\"udonis_fga\"], 'k:.', label=\"Udonis\")\n",
    "plt.axis([20, 42, 0, 25] )\n",
    "plt.legend(loc=\"best\")\n",
    "plt.grid(which='major', linestyle='-', linewidth=1.2, color='black', alpha=0.3)\n",
    "plt.minorticks_on()\n",
    "plt.grid(which='minor', linestyle='--', color='gray', alpha=0.2)\n",
    "plt.title(\"Age vs FGA\")\n",
    "plt.xlabel(\"Age\")\n",
    "plt.ylabel(\"FGA\")\n",
    "\n",
    "plt.subplot(2,2,2)\n",
    "plt.plot(old_dict[\"vince_age\"], old_dict[\"vince_efg\"], 'r:.', linewidth=1.1, label=\"Vince\")\n",
    "plt.plot(old_dict[\"dirk_age\"], old_dict[\"dirk_efg\"], 'b:.', label=\"Dirk\")\n",
    "plt.plot(old_dict[\"jamal_age\"], old_dict[\"jamal_efg\"], 'g:.', label=\"Jamal\")\n",
    "plt.plot(old_dict[\"pau_age\"], old_dict[\"pau_efg\"], 'y:.', label=\"Pau\")\n",
    "plt.plot(old_dict[\"udonis_age\"], old_dict[\"udonis_efg\"], 'k:.', label=\"Udonis\")\n",
    "plt.axis([20, 42, 0.23, 0.58] )\n",
    "plt.legend(loc=\"best\")\n",
    "plt.grid(which='major', linestyle='-', linewidth=1.2, color='black', alpha=0.3)\n",
    "plt.minorticks_on()\n",
    "plt.grid(which='minor', linestyle='--', color='gray', alpha=0.2)\n",
    "plt.title(\"Age vs EFG\")\n",
    "plt.xlabel(\"Age\")\n",
    "plt.ylabel(\"EFG\")\n",
    "\n",
    "plt.subplot(2,2,4)\n",
    "plt.plot(old_dict[\"vince_age\"], old_dict[\"vince_mpg\"], 'r:.', linewidth=1.1, label=\"Vince\")\n",
    "plt.plot(old_dict[\"dirk_age\"], old_dict[\"dirk_mpg\"], 'b:.', label=\"Dirk\")\n",
    "plt.plot(old_dict[\"jamal_age\"], old_dict[\"jamal_mpg\"], 'g:.', label=\"Jamal\")\n",
    "plt.plot(old_dict[\"pau_age\"], old_dict[\"pau_mpg\"], 'y:.', label=\"Pau\")\n",
    "plt.plot(old_dict[\"udonis_age\"], old_dict[\"udonis_mpg\"], 'k:.', label=\"Udonis\")\n",
    "plt.axis([20, 42, 0, 48] )\n",
    "plt.legend(loc=\"best\")\n",
    "plt.grid(which='major', linestyle='-', linewidth=1.2, color='black', alpha=0.3)\n",
    "plt.minorticks_on()\n",
    "plt.grid(which='minor', linestyle='--', color='gray', alpha=0.2)\n",
    "plt.title(\"Age vs MPG\")\n",
    "plt.xlabel(\"Age\")\n",
    "plt.ylabel(\"MPG\")"
   ]
  },
  {
   "cell_type": "code",
   "execution_count": null,
   "metadata": {},
   "outputs": [],
   "source": [
    "old_players"
   ]
  },
  {
   "cell_type": "code",
   "execution_count": null,
   "metadata": {},
   "outputs": [],
   "source": []
  },
  {
   "cell_type": "code",
   "execution_count": null,
   "metadata": {},
   "outputs": [],
   "source": []
  },
  {
   "cell_type": "code",
   "execution_count": null,
   "metadata": {},
   "outputs": [],
   "source": []
  },
  {
   "cell_type": "code",
   "execution_count": null,
   "metadata": {},
   "outputs": [],
   "source": []
  },
  {
   "cell_type": "code",
   "execution_count": null,
   "metadata": {},
   "outputs": [],
   "source": []
  },
  {
   "cell_type": "code",
   "execution_count": null,
   "metadata": {},
   "outputs": [],
   "source": []
  },
  {
   "cell_type": "code",
   "execution_count": null,
   "metadata": {},
   "outputs": [],
   "source": []
  }
 ],
 "metadata": {
  "kernelspec": {
   "display_name": "Python 3",
   "language": "python",
   "name": "python3"
  },
  "language_info": {
   "codemirror_mode": {
    "name": "ipython",
    "version": 3
   },
   "file_extension": ".py",
   "mimetype": "text/x-python",
   "name": "python",
   "nbconvert_exporter": "python",
   "pygments_lexer": "ipython3",
   "version": "3.7.1"
  }
 },
 "nbformat": 4,
 "nbformat_minor": 2
}
